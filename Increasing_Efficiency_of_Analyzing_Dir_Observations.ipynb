{
  "cells": [
    {
      "cell_type": "code",
      "execution_count": 2,
      "metadata": {
        "id": "YxNiZ4vyc-MC"
      },
      "outputs": [],
      "source": [
        "import os\n",
        "import csv\n",
        "import pandas as pd\n",
        "import numpy as np\n",
        "import math\n",
        "from numpy.core.numeric import NaN\n",
        "import scipy.stats as st\n",
        "import itertools\n",
        "\n",
        "from sklearn.cluster import KMeans\n",
        "from sklearn.decomposition import PCA\n",
        "from sklearn import preprocessing\n",
        "\n",
        "from sklearn.preprocessing import LabelEncoder, OneHotEncoder\n",
        "from sklearn.neural_network import MLPClassifier\n",
        "from sklearn.linear_model import LinearRegression\n",
        "\n",
        "import matplotlib\n",
        "import matplotlib.pyplot as plt\n",
        "import seaborn as sns\n",
        "\n",
        "from sklearn.metrics import mean_squared_error, r2_score\n",
        "from sklearn.metrics import accuracy_score\n",
        "from sklearn.model_selection import train_test_split\n",
        "\n",
        "from sklearn.cluster import AgglomerativeClustering\n",
        "from sklearn.metrics.pairwise import cosine_similarity\n",
        "\n",
        "import random\n",
        "\n",
        "\n",
        "\n",
        "\n",
        "\n"
      ]
    },
    {
      "cell_type": "markdown",
      "metadata": {
        "id": "tJXJL49FnU7V"
      },
      "source": [
        "Part 1: Pre-Processing"
      ]
    },
    {
      "cell_type": "code",
      "execution_count": 3,
      "metadata": {
        "id": "LsZDv9Wl6sZY"
      },
      "outputs": [],
      "source": [
        "#Loading data\n",
        "vo9 = pd.read_csv(r'/content/vo.9.csv')"
      ]
    },
    {
      "cell_type": "code",
      "source": [
        "df_full_test.columns"
      ],
      "metadata": {
        "colab": {
          "base_uri": "https://localhost:8080/"
        },
        "id": "mSiWbeKRLWqZ",
        "outputId": "a419beca-990d-42b3-d17a-31686d7b96f9"
      },
      "execution_count": 156,
      "outputs": [
        {
          "output_type": "execute_result",
          "data": {
            "text/plain": [
              "Index(['vo.num', 'hh', 'clip', 'hand', 'coder', 'obsnum', 'cObj', 'cAct',\n",
              "       'cFreq', 'event', 'loc', 'oAct', 'oObj', 'dur', 'timestamp', 'clip.S',\n",
              "       'realtime', 'realtime.hrs', 'realtime.min', 'realtime.hr.half',\n",
              "       'actobj.num', 'act', 'obj', 'obj.class', 'actobj', 'actobj.class', 'X',\n",
              "       'htm', 'htm_cumul', 'htm/hr', 'record.cumulative', 'recorded_time',\n",
              "       'recorded_seconds', 'recorded_minutes', 'recorded_hours'],\n",
              "      dtype='object')"
            ]
          },
          "metadata": {},
          "execution_count": 156
        }
      ]
    },
    {
      "cell_type": "code",
      "execution_count": 4,
      "metadata": {
        "colab": {
          "base_uri": "https://localhost:8080/"
        },
        "id": "ak39zXJ19w18",
        "outputId": "f8223b3b-2782-4131-98a4-f884cf07a740"
      },
      "outputs": [
        {
          "output_type": "stream",
          "name": "stderr",
          "text": [
            "/usr/local/lib/python3.7/dist-packages/ipykernel_launcher.py:9: SettingWithCopyWarning: \n",
            "A value is trying to be set on a copy of a slice from a DataFrame.\n",
            "Try using .loc[row_indexer,col_indexer] = value instead\n",
            "\n",
            "See the caveats in the documentation: https://pandas.pydata.org/pandas-docs/stable/user_guide/indexing.html#returning-a-view-versus-a-copy\n",
            "  if __name__ == '__main__':\n",
            "/usr/local/lib/python3.7/dist-packages/pandas/core/indexing.py:1817: SettingWithCopyWarning: \n",
            "A value is trying to be set on a copy of a slice from a DataFrame.\n",
            "Try using .loc[row_indexer,col_indexer] = value instead\n",
            "\n",
            "See the caveats in the documentation: https://pandas.pydata.org/pandas-docs/stable/user_guide/indexing.html#returning-a-view-versus-a-copy\n",
            "  self._setitem_single_column(loc, value, pi)\n"
          ]
        }
      ],
      "source": [
        "#Make a copy\n",
        "df2 = vo9.copy()\n",
        "\n",
        "#Focusing specifically on right hand because of cultural norms\n",
        "dfact = df2[df2[\"hand\"] == \"R\"]\n",
        "\n",
        "#Exclusively want Hand to mouth exposures\n",
        "#For our frequency column, 0 or 1 given exposure\n",
        "dfact[\"htm\"] = 0\n",
        "\n",
        "indexer = (dfact['obj'] == 'ChildHand') & (dfact[\"act\"]=='Touch')\n",
        "dfact.loc[indexer, 'htm'] = 1\n",
        "dfact.loc[~indexer, 'htm'] = 0"
      ]
    },
    {
      "cell_type": "markdown",
      "metadata": {
        "id": "d_nVONAJWhpM"
      },
      "source": [
        "Algorithmic Processing"
      ]
    },
    {
      "cell_type": "code",
      "source": [
        "train, test = train_test_split(\n",
        "    dfact, test_size=0.33, random_state=42)"
      ],
      "metadata": {
        "id": "1AhNGYUfQQct"
      },
      "execution_count": 5,
      "outputs": []
    },
    {
      "cell_type": "code",
      "source": [
        "#Build a Subset for each Round of video\n",
        "def dict_subset_builder(percent_choice, df):\n",
        "  round_1 = {}\n",
        "  round_2 = {}\n",
        "  round_3 = {}\n",
        "\n",
        "  hh_list = df[\"hh\"].unique()\n",
        "  rounds = df[\"vo.num\"].unique()\n",
        "\n",
        "  count = 0\n",
        "\n",
        "  df[\"htm_cumul\"] = 0\n",
        "  df[\"htm/hr\"] = 0\n",
        "\n",
        "  #go through all the children in hh_list\n",
        "  for child in hh_list:\n",
        "\n",
        "\n",
        "    #create sub dictionary\n",
        "    vo_1 = {}\n",
        "    vo_2 = {}\n",
        "    vo_3 = {}\n",
        "\n",
        "\n",
        "    count2 = 0\n",
        "\n",
        "    for round in rounds:\n",
        "\n",
        "      #specify the vo round and child\n",
        "      df_vo = df[(df[\"vo.num\"]== str(round)) & (df[\"hh\"]== child)]\n",
        "\n",
        "      #get the cumulative sum of recorded time\n",
        "      df_vo[\"record.cumulative\"] = df_vo[\"dur\"].shift(1).cumsum().fillna(0)\n",
        "\n",
        "\n",
        "      #creating hour running time variable\n",
        "      df_vo[\"recorded_time\"] = (pd.to_datetime(df_vo[\"record.cumulative\"], unit=\"s\"))\n",
        "\n",
        "      # extracting seconds from time stamp\n",
        "      df_vo['recorded_seconds'] = df_vo['recorded_time'].dt.second\n",
        "      df_vo['recorded_minutes'] =df_vo['recorded_time'].dt.minute\n",
        "      df_vo['recorded_hours'] = df_vo['recorded_time'].dt.hour\n",
        "      df_vo[\"recorded_time\"] = df_vo['recorded_time'].dt.time\n",
        "      # hour_dict = {}\n",
        "      # for value in df_vo[\"recorded_hours\"].unique():  & (df_vo[\"recorded_hours\"] == value)\n",
        "      frac = 60*(percent_choice/100)\n",
        "      tuple_list = []\n",
        "\n",
        "      for i in range(0, 60-int(frac)+1):\n",
        "        time_pairs = (i,i + frac)\n",
        "        tuple_list.append(time_pairs)\n",
        "\n",
        "      #store all possible subsets in a single dictionary\n",
        "      time_diction = {}    \n",
        "      for i in range(0, len(tuple_list)):\n",
        "        time_list = []\n",
        "        new_subset = df_vo[(df_vo[\"recorded_minutes\"] >= tuple_list[i][0]) & (df_vo[\"recorded_minutes\"] <= tuple_list[i][1])]\n",
        "\n",
        "        #add column for time\n",
        "        time_list.append([tuple_list[i][0], tuple_list[i][1]])\n",
        "        new_subset[\"times\"] = str(time_list)\n",
        "        \n",
        "\n",
        "        #get cumulative sum of exposures\n",
        "        new_subset[\"htm_cumul\"] = new_subset[\"htm\"].cumsum()\n",
        "\n",
        "        #Frequency per hour = cumulative number of exposures/total amount of seconds -> converted to hours\n",
        "        \n",
        "        new_subset[\"htm/hr\"] = (new_subset[\"htm_cumul\"].max()/new_subset[\"record.cumulative\"].max())*60*60\n",
        "        time_diction[i] = new_subset\n",
        "        \n",
        "      full_time = pd.concat(time_diction.values(), ignore_index=True)\n",
        "\n",
        "      \n",
        "      if round == \"vo1\":\n",
        "        vo_1[count2] = full_time\n",
        "      elif round == \"vo2\":\n",
        "        vo_2[count2] = full_time\n",
        "      elif round == \"vo3\":\n",
        "        vo_3[count2] = full_time\n",
        "      count2 += 1\n",
        "    #concatenate the dictionary we just created\n",
        "    vo_full = pd.concat(vo_1.values(), ignore_index=True)\n",
        "      #add it to the larger dictionary\n",
        "    round_1[count] = vo_full\n",
        "    vo_full = pd.concat(vo_2.values(), ignore_index=True)\n",
        "    round_2[count] = vo_full\n",
        "    vo_full = pd.concat(vo_3.values(), ignore_index=True)\n",
        "    round_3[count] = vo_full\n",
        "    count += 1\n",
        "\n",
        "\n",
        "  #Group dictionary by time rather than child\n",
        "  sub1 = {f'{i}': df for i, (_, df) in \n",
        "       enumerate((pd.concat(round_1.values())).groupby('times'), 1)}\n",
        "  #Group dictionary by time rather than child\n",
        "  sub2 = {f'{i}': df for i, (_, df) in \n",
        "       enumerate((pd.concat(round_2.values())).groupby('times'), 1)}\n",
        "  #Group dictionary by time rather than child\n",
        "  sub3 = {f'{i}': df for i, (_, df) in \n",
        "       enumerate((pd.concat(round_3.values())).groupby('times'), 1)}\n",
        "  \n",
        "  return sub1, sub2, sub3\n"
      ],
      "metadata": {
        "id": "Ugdi3-0nBrdR"
      },
      "execution_count": 6,
      "outputs": []
    },
    {
      "cell_type": "code",
      "execution_count": 7,
      "metadata": {
        "id": "oCynDwclGVQ1"
      },
      "outputs": [],
      "source": [
        "##same treatment for full dataset to get frequencies and rolling recording time\n",
        "\n",
        "\n",
        "def full_dataset(dfact):\n",
        "  per_child = {}\n",
        "\n",
        "  hh_list = dfact[\"hh\"].unique()\n",
        "  rounds = dfact[\"vo.num\"].unique()\n",
        "\n",
        "  count = 0\n",
        "\n",
        "  dfact[\"htm_cumul\"] = 0\n",
        "  dfact[\"htm/hr\"] = 0\n",
        "\n",
        "  #go through all the children in hh_list\n",
        "  for child in hh_list:\n",
        "\n",
        "\n",
        "    #create sub dictionary\n",
        "    vo_dict = {}\n",
        "\n",
        "\n",
        "    count2 = 0\n",
        "\n",
        "    for round in rounds:\n",
        "\n",
        "      #specify the vo round and child\n",
        "      df_vo = dfact[(dfact[\"vo.num\"]== str(round)) & (dfact[\"hh\"]== child)]\n",
        "\n",
        "      #get the cumulative sum of recorded time\n",
        "      df_vo[\"record.cumulative\"] = df_vo[\"dur\"].shift(1).cumsum().fillna(0)\n",
        "\n",
        "      #get cumulative sum of exposures\n",
        "      df_vo[\"htm_cumul\"] = df_vo[\"htm\"].cumsum()\n",
        "\n",
        "      #Frequency per hour = cumulative number of exposures/total amount of seconds -> converted to hours\n",
        "      df_vo[\"htm/hr\"] = (df_vo[\"htm_cumul\"].max()/df_vo[\"record.cumulative\"].max())*60*60\n",
        "      \n",
        "      #add each of our vo dataframes for each child to this sub dictionary\n",
        "      vo_dict[count2] = df_vo\n",
        "      count2 += 1\n",
        "\n",
        "    #concatenate the dictionary we just created  \n",
        "    vo_full = pd.concat(vo_dict.values(), ignore_index=True)\n",
        "\n",
        "    #add it to the larger dictionary\n",
        "    per_child[count] = vo_full\n",
        "    count += 1\n",
        "\n",
        "\n",
        "  #combine all into a single df\n",
        "  dfact = pd.concat(per_child.values(), ignore_index=True)\n",
        "\n",
        "\n",
        "  #creating hour running time variable\n",
        "  dfact[\"recorded_time\"] = (pd.to_datetime(dfact[\"record.cumulative\"], unit=\"s\"))\n",
        "\n",
        "  # extracting seconds from time stamp\n",
        "  dfact['recorded_seconds'] = dfact['recorded_time'].dt.second\n",
        "  dfact['recorded_minutes'] =dfact['recorded_time'].dt.minute\n",
        "  dfact['recorded_hours'] = dfact['recorded_time'].dt.hour\n",
        "  dfact[\"recorded_time\"] = dfact['recorded_time'].dt.time\n",
        "\n",
        "  return dfact\n"
      ]
    },
    {
      "cell_type": "markdown",
      "source": [
        "ReCalculate Frequency and recorded time for each Subset"
      ],
      "metadata": {
        "id": "82oQUxt9bwYc"
      }
    },
    {
      "cell_type": "code",
      "source": [
        "# ##adjust frequency and rolling time for our subsets\n",
        "\n",
        "def adjust_time(dictionary):\n",
        "  count = 0\n",
        "  for key, value in dictionary.items():\n",
        "    subset_dict = {}\n",
        "    \n",
        "    child_list = value[\"hh\"].unique()\n",
        "\n",
        "    for child in child_list:\n",
        "\n",
        "      three = [\"vo1\", \"vo2\", \"vo3\"]\n",
        "\n",
        "      for round in three:\n",
        "        current = value[(value[\"hh\"]== child) & (value[\"vo.num\"]== round)]\n",
        "        current[\"record.cumulative\"] = current[\"dur\"].cumsum().shift(1).fillna(0)\n",
        "\n",
        "        current[\"recorded_time\"] = (pd.to_datetime(current[\"record.cumulative\"], unit=\"s\"))\n",
        "\n",
        "        # extracting seconds from time stamp\n",
        "        current['recorded_seconds'] = current['recorded_time'].dt.second\n",
        "        current['recorded_minutes'] =current['recorded_time'].dt.minute\n",
        "        current['recorded_hours'] = current['recorded_time'].dt.hour\n",
        "        current[\"recorded_time\"] = current['recorded_time'].dt.time\n",
        "\n",
        "        #get cumulative sum of exposures\n",
        "        current[\"htm_cumul\"] = current[\"htm\"].cumsum()\n",
        "\n",
        "          #Frequency per hour = cumulative number of exposures/total amount of seconds -> converted to hours\n",
        "        current[\"htm/hr\"] = (current[\"htm_cumul\"].max()/current[\"record.cumulative\"].max())*60*60\n",
        "        subset_dict[count] = current\n",
        "        count+=1\n",
        "\n",
        "        \n",
        "\n",
        "    this = pd.concat(subset_dict.values())\n",
        "    dictionary[key] = this\n",
        "  return(dictionary)"
      ],
      "metadata": {
        "id": "_ge2a2ID-oFs"
      },
      "execution_count": 8,
      "outputs": []
    },
    {
      "cell_type": "code",
      "execution_count": 73,
      "metadata": {
        "id": "lODSwB-79jDD"
      },
      "outputs": [],
      "source": [
        "#create confidence intervals for all subsets\n",
        "\n",
        "def conf_out(dictionary, percent_choice):\n",
        "  time_list = pd.concat(dictionary.values())[\"times\"].unique()\n",
        "\n",
        "  gold = np.std(df_full_test.groupby([\"hh\", \"vo.num\",\"htm/hr\"])[[\"htm_cumul\", \"recorded_time\"]].max().reset_index()[\"htm/hr\"].unique())\n",
        "  yes_list = []\n",
        "  empty = []\n",
        "  sd_list = []\n",
        "\n",
        "  for item in dictionary.values():\n",
        "\n",
        "    for time in time_list:\n",
        "\n",
        "      df_ci = item[item[\"times\"] == str(time)].groupby([\"hh\", \"vo.num\",\"htm/hr\", \"times\"])[[\"htm_cumul\", \"recorded_time\"]].max().reset_index()[\"htm/hr\"].unique()\n",
        "      if len(df_ci) == 0:\n",
        "        continue\n",
        "\n",
        "      ci = st.norm.interval(alpha=0.90, loc=np.std(df_ci), scale=st.sem(df_ci))\n",
        "      print(ci)\n",
        "      sd_list.append(np.std(df_ci))\n",
        "\n",
        "      if gold >= ci[0] and gold <= ci[1]:\n",
        "        yes_list.append(1)\n",
        "      else:\n",
        "        yes_list.append(0)\n",
        "\n",
        "  x = sum(yes_list)/len(yes_list)\n",
        "  print(\"\\n\", \"If you code\", percent_choice,\"% of every hour, \\n\", x*100,\"% of subset confidence intervals\", \"\\n\", \"will contain the true population standard deviation for frequency of exposure\", \"\\n\" )\n",
        "  print(len(yes_list), sum(yes_list))\n",
        "  return sd_list"
      ]
    },
    {
      "cell_type": "markdown",
      "metadata": {
        "id": "vbHPNV8Rbkuj"
      },
      "source": [
        "Functions:\n",
        "\n",
        "dict_subset_builder(85):\n",
        "\n",
        "    This will create a dictionary of all possible continuous subsets containing 85% of video for each hour\n",
        "\n",
        "adjust_time(all_subsets):\n",
        "\n",
        "    This will adjust our times and frequencies to be accurate for the specified percentage\n",
        "\n",
        "full_dataset(dfact):\n",
        "\n",
        "    This will help us process our full dataset to get accuracte rolling recorded time for each child during each round of recording\n",
        "\n",
        "\n",
        "conf_out(all_subsets, 85):\n",
        "\n",
        "    Given a dictionary from dict_subset_builder, this will tell us the percent of subset CI's that contain the true SD\n",
        "\n",
        "\n"
      ]
    },
    {
      "cell_type": "code",
      "source": [
        "# Process test values, calculating htm frequency and recorded time action duration\n",
        "df_full_test = full_dataset(test)\n",
        "\n"
      ],
      "metadata": {
        "colab": {
          "base_uri": "https://localhost:8080/"
        },
        "id": "59DI22d4sTcE",
        "outputId": "3bc56067-b720-439a-f829-f574ef57cfd1"
      },
      "execution_count": 10,
      "outputs": [
        {
          "output_type": "stream",
          "name": "stderr",
          "text": [
            "/usr/local/lib/python3.7/dist-packages/ipykernel_launcher.py:31: SettingWithCopyWarning: \n",
            "A value is trying to be set on a copy of a slice from a DataFrame.\n",
            "Try using .loc[row_indexer,col_indexer] = value instead\n",
            "\n",
            "See the caveats in the documentation: https://pandas.pydata.org/pandas-docs/stable/user_guide/indexing.html#returning-a-view-versus-a-copy\n",
            "/usr/local/lib/python3.7/dist-packages/ipykernel_launcher.py:34: SettingWithCopyWarning: \n",
            "A value is trying to be set on a copy of a slice from a DataFrame.\n",
            "Try using .loc[row_indexer,col_indexer] = value instead\n",
            "\n",
            "See the caveats in the documentation: https://pandas.pydata.org/pandas-docs/stable/user_guide/indexing.html#returning-a-view-versus-a-copy\n",
            "/usr/local/lib/python3.7/dist-packages/ipykernel_launcher.py:37: SettingWithCopyWarning: \n",
            "A value is trying to be set on a copy of a slice from a DataFrame.\n",
            "Try using .loc[row_indexer,col_indexer] = value instead\n",
            "\n",
            "See the caveats in the documentation: https://pandas.pydata.org/pandas-docs/stable/user_guide/indexing.html#returning-a-view-versus-a-copy\n"
          ]
        }
      ]
    },
    {
      "cell_type": "code",
      "source": [
        "df_full_train = full_dataset(train)"
      ],
      "metadata": {
        "colab": {
          "base_uri": "https://localhost:8080/"
        },
        "id": "bU9z_5aZGLX8",
        "outputId": "30bad9b8-01c5-4c39-ceb3-3165ce6ca768"
      },
      "execution_count": 11,
      "outputs": [
        {
          "output_type": "stream",
          "name": "stderr",
          "text": [
            "/usr/local/lib/python3.7/dist-packages/ipykernel_launcher.py:31: SettingWithCopyWarning: \n",
            "A value is trying to be set on a copy of a slice from a DataFrame.\n",
            "Try using .loc[row_indexer,col_indexer] = value instead\n",
            "\n",
            "See the caveats in the documentation: https://pandas.pydata.org/pandas-docs/stable/user_guide/indexing.html#returning-a-view-versus-a-copy\n",
            "/usr/local/lib/python3.7/dist-packages/ipykernel_launcher.py:34: SettingWithCopyWarning: \n",
            "A value is trying to be set on a copy of a slice from a DataFrame.\n",
            "Try using .loc[row_indexer,col_indexer] = value instead\n",
            "\n",
            "See the caveats in the documentation: https://pandas.pydata.org/pandas-docs/stable/user_guide/indexing.html#returning-a-view-versus-a-copy\n",
            "/usr/local/lib/python3.7/dist-packages/ipykernel_launcher.py:37: SettingWithCopyWarning: \n",
            "A value is trying to be set on a copy of a slice from a DataFrame.\n",
            "Try using .loc[row_indexer,col_indexer] = value instead\n",
            "\n",
            "See the caveats in the documentation: https://pandas.pydata.org/pandas-docs/stable/user_guide/indexing.html#returning-a-view-versus-a-copy\n"
          ]
        }
      ]
    },
    {
      "cell_type": "code",
      "source": [
        "#builds subsets for our training dataset\n",
        "\n",
        "\n",
        "all_subsets = dict_subset_builder(75, train)"
      ],
      "metadata": {
        "colab": {
          "base_uri": "https://localhost:8080/"
        },
        "id": "2BVCo9c1nQGi",
        "outputId": "146da6f2-069b-4db9-908c-450aabaf109d"
      },
      "execution_count": 132,
      "outputs": [
        {
          "output_type": "stream",
          "name": "stderr",
          "text": [
            "/usr/local/lib/python3.7/dist-packages/ipykernel_launcher.py:33: SettingWithCopyWarning: \n",
            "A value is trying to be set on a copy of a slice from a DataFrame.\n",
            "Try using .loc[row_indexer,col_indexer] = value instead\n",
            "\n",
            "See the caveats in the documentation: https://pandas.pydata.org/pandas-docs/stable/user_guide/indexing.html#returning-a-view-versus-a-copy\n",
            "/usr/local/lib/python3.7/dist-packages/ipykernel_launcher.py:37: SettingWithCopyWarning: \n",
            "A value is trying to be set on a copy of a slice from a DataFrame.\n",
            "Try using .loc[row_indexer,col_indexer] = value instead\n",
            "\n",
            "See the caveats in the documentation: https://pandas.pydata.org/pandas-docs/stable/user_guide/indexing.html#returning-a-view-versus-a-copy\n",
            "/usr/local/lib/python3.7/dist-packages/ipykernel_launcher.py:40: SettingWithCopyWarning: \n",
            "A value is trying to be set on a copy of a slice from a DataFrame.\n",
            "Try using .loc[row_indexer,col_indexer] = value instead\n",
            "\n",
            "See the caveats in the documentation: https://pandas.pydata.org/pandas-docs/stable/user_guide/indexing.html#returning-a-view-versus-a-copy\n",
            "/usr/local/lib/python3.7/dist-packages/ipykernel_launcher.py:41: SettingWithCopyWarning: \n",
            "A value is trying to be set on a copy of a slice from a DataFrame.\n",
            "Try using .loc[row_indexer,col_indexer] = value instead\n",
            "\n",
            "See the caveats in the documentation: https://pandas.pydata.org/pandas-docs/stable/user_guide/indexing.html#returning-a-view-versus-a-copy\n",
            "/usr/local/lib/python3.7/dist-packages/ipykernel_launcher.py:42: SettingWithCopyWarning: \n",
            "A value is trying to be set on a copy of a slice from a DataFrame.\n",
            "Try using .loc[row_indexer,col_indexer] = value instead\n",
            "\n",
            "See the caveats in the documentation: https://pandas.pydata.org/pandas-docs/stable/user_guide/indexing.html#returning-a-view-versus-a-copy\n",
            "/usr/local/lib/python3.7/dist-packages/ipykernel_launcher.py:43: SettingWithCopyWarning: \n",
            "A value is trying to be set on a copy of a slice from a DataFrame.\n",
            "Try using .loc[row_indexer,col_indexer] = value instead\n",
            "\n",
            "See the caveats in the documentation: https://pandas.pydata.org/pandas-docs/stable/user_guide/indexing.html#returning-a-view-versus-a-copy\n",
            "/usr/local/lib/python3.7/dist-packages/ipykernel_launcher.py:61: SettingWithCopyWarning: \n",
            "A value is trying to be set on a copy of a slice from a DataFrame.\n",
            "Try using .loc[row_indexer,col_indexer] = value instead\n",
            "\n",
            "See the caveats in the documentation: https://pandas.pydata.org/pandas-docs/stable/user_guide/indexing.html#returning-a-view-versus-a-copy\n",
            "/usr/local/lib/python3.7/dist-packages/ipykernel_launcher.py:65: SettingWithCopyWarning: \n",
            "A value is trying to be set on a copy of a slice from a DataFrame.\n",
            "Try using .loc[row_indexer,col_indexer] = value instead\n",
            "\n",
            "See the caveats in the documentation: https://pandas.pydata.org/pandas-docs/stable/user_guide/indexing.html#returning-a-view-versus-a-copy\n",
            "/usr/local/lib/python3.7/dist-packages/ipykernel_launcher.py:69: SettingWithCopyWarning: \n",
            "A value is trying to be set on a copy of a slice from a DataFrame.\n",
            "Try using .loc[row_indexer,col_indexer] = value instead\n",
            "\n",
            "See the caveats in the documentation: https://pandas.pydata.org/pandas-docs/stable/user_guide/indexing.html#returning-a-view-versus-a-copy\n"
          ]
        }
      ]
    },
    {
      "cell_type": "code",
      "source": [
        "#adjust time of each round dictionary\n",
        "sub1 = adjust_time(all_subsets[0])\n",
        "sub2 = adjust_time(all_subsets[1])\n",
        "sub3 = adjust_time(all_subsets[2])\n",
        "\n",
        "#put into a dictionary for use with confidence interval test\n",
        "conf_dict = {}\n",
        "conf_dict[1] = sub1\n",
        "conf_dict[2] = num2\n",
        "conf_dict[3] = sub3"
      ],
      "metadata": {
        "colab": {
          "base_uri": "https://localhost:8080/"
        },
        "id": "_3FPmlf8nQvM",
        "outputId": "b9781606-b027-4264-dffb-a7c7808bfa3e"
      },
      "execution_count": 78,
      "outputs": [
        {
          "output_type": "stream",
          "name": "stderr",
          "text": [
            "/usr/local/lib/python3.7/dist-packages/ipykernel_launcher.py:16: SettingWithCopyWarning: \n",
            "A value is trying to be set on a copy of a slice from a DataFrame.\n",
            "Try using .loc[row_indexer,col_indexer] = value instead\n",
            "\n",
            "See the caveats in the documentation: https://pandas.pydata.org/pandas-docs/stable/user_guide/indexing.html#returning-a-view-versus-a-copy\n",
            "  app.launch_new_instance()\n",
            "/usr/local/lib/python3.7/dist-packages/ipykernel_launcher.py:18: SettingWithCopyWarning: \n",
            "A value is trying to be set on a copy of a slice from a DataFrame.\n",
            "Try using .loc[row_indexer,col_indexer] = value instead\n",
            "\n",
            "See the caveats in the documentation: https://pandas.pydata.org/pandas-docs/stable/user_guide/indexing.html#returning-a-view-versus-a-copy\n",
            "/usr/local/lib/python3.7/dist-packages/ipykernel_launcher.py:21: SettingWithCopyWarning: \n",
            "A value is trying to be set on a copy of a slice from a DataFrame.\n",
            "Try using .loc[row_indexer,col_indexer] = value instead\n",
            "\n",
            "See the caveats in the documentation: https://pandas.pydata.org/pandas-docs/stable/user_guide/indexing.html#returning-a-view-versus-a-copy\n",
            "/usr/local/lib/python3.7/dist-packages/ipykernel_launcher.py:22: SettingWithCopyWarning: \n",
            "A value is trying to be set on a copy of a slice from a DataFrame.\n",
            "Try using .loc[row_indexer,col_indexer] = value instead\n",
            "\n",
            "See the caveats in the documentation: https://pandas.pydata.org/pandas-docs/stable/user_guide/indexing.html#returning-a-view-versus-a-copy\n",
            "/usr/local/lib/python3.7/dist-packages/ipykernel_launcher.py:23: SettingWithCopyWarning: \n",
            "A value is trying to be set on a copy of a slice from a DataFrame.\n",
            "Try using .loc[row_indexer,col_indexer] = value instead\n",
            "\n",
            "See the caveats in the documentation: https://pandas.pydata.org/pandas-docs/stable/user_guide/indexing.html#returning-a-view-versus-a-copy\n",
            "/usr/local/lib/python3.7/dist-packages/ipykernel_launcher.py:24: SettingWithCopyWarning: \n",
            "A value is trying to be set on a copy of a slice from a DataFrame.\n",
            "Try using .loc[row_indexer,col_indexer] = value instead\n",
            "\n",
            "See the caveats in the documentation: https://pandas.pydata.org/pandas-docs/stable/user_guide/indexing.html#returning-a-view-versus-a-copy\n",
            "/usr/local/lib/python3.7/dist-packages/ipykernel_launcher.py:27: SettingWithCopyWarning: \n",
            "A value is trying to be set on a copy of a slice from a DataFrame.\n",
            "Try using .loc[row_indexer,col_indexer] = value instead\n",
            "\n",
            "See the caveats in the documentation: https://pandas.pydata.org/pandas-docs/stable/user_guide/indexing.html#returning-a-view-versus-a-copy\n",
            "/usr/local/lib/python3.7/dist-packages/ipykernel_launcher.py:30: SettingWithCopyWarning: \n",
            "A value is trying to be set on a copy of a slice from a DataFrame.\n",
            "Try using .loc[row_indexer,col_indexer] = value instead\n",
            "\n",
            "See the caveats in the documentation: https://pandas.pydata.org/pandas-docs/stable/user_guide/indexing.html#returning-a-view-versus-a-copy\n"
          ]
        }
      ]
    },
    {
      "cell_type": "code",
      "source": [
        "##when we compare directly to a single round... even 50% of our data for each round, all subsets CI's will contain true population sd\n",
        "\n",
        "\n",
        "\n",
        "#What % of my subsets with 75% of each hour contain true SD?\n",
        "\n",
        "for i in range(1, 4):\n",
        "  conf_out(conf_dict[i], 75)\n",
        "\n",
        "\n"
      ],
      "metadata": {
        "colab": {
          "base_uri": "https://localhost:8080/"
        },
        "id": "p_cdWKgjnSLe",
        "outputId": "2e780fa8-4746-4a5d-d01f-ac191585dcea"
      },
      "execution_count": 64,
      "outputs": [
        {
          "output_type": "stream",
          "name": "stdout",
          "text": [
            "\n",
            " If you code 75 % of every hour, \n",
            " 100.0 % of subset confidence intervals \n",
            " will contain the true population standard deviation for frequency of exposure \n",
            "\n",
            "16 16\n",
            "\n",
            " If you code 75 % of every hour, \n",
            " 0.0 % of subset confidence intervals \n",
            " will contain the true population standard deviation for frequency of exposure \n",
            "\n",
            "16 0\n",
            "\n",
            " If you code 75 % of every hour, \n",
            " 100.0 % of subset confidence intervals \n",
            " will contain the true population standard deviation for frequency of exposure \n",
            "\n",
            "16 16\n"
          ]
        }
      ]
    },
    {
      "cell_type": "markdown",
      "source": [
        "Visualizations"
      ],
      "metadata": {
        "id": "zZ2v4BmisLrY"
      }
    },
    {
      "cell_type": "code",
      "execution_count": 32,
      "metadata": {
        "colab": {
          "base_uri": "https://localhost:8080/",
          "height": 724
        },
        "id": "UcOPzm2GNYHI",
        "outputId": "1538fa32-e4da-4224-e74e-5953c1064a9a"
      },
      "outputs": [
        {
          "output_type": "display_data",
          "data": {
            "text/plain": [
              "<Figure size 1008x1008 with 1 Axes>"
            ],
            "image/png": "[encoded data removed]"
          },
          "metadata": {
            "needs_background": "light"
          }
        }
      ],
      "source": [
        "count = 0\n",
        "for item in conf_dict[2].keys():\n",
        "  conf_dict[2][str(item)] = conf_dict[2][str(item)].groupby([\"hh\", \"vo.num\",\"htm/hr\", \"times\"])[[\"recorded_time\"]].max().reset_index()\n",
        "  conf_dict[2][str(item)][\"label\"] = str(item)\n",
        "\n",
        "subsets = pd.concat(conf_dict[2].values(), ignore_index=True)\n",
        "\n",
        "df_full = df_full_test.groupby([\"hh\", \"vo.num\",\"htm/hr\"])[[\"recorded_time\"]].max().reset_index()\n",
        "df_full[\"label\"] = \"Test\"\n",
        "\n",
        "\n",
        "full_plotting = pd.concat([subsets, df_full[df_full[\"vo.num\"]==\"vo2\"]], ignore_index=True)\n",
        "full_plotting[\"times\"].fillna(\"Test\", inplace=True) \n",
        "\n",
        "#concatenate them all together (with the full dataset)\n",
        "\n",
        "plt.figure(figsize=(14, 14))\n",
        "ax = sns.boxplot(x=\"times\", y = \"htm/hr\",\n",
        "                 data=full_plotting, palette=\"Set3\", orient = \"vertical\")\n",
        "ax.set_xticklabels(ax.get_xticklabels(),rotation = 30)\n",
        "\n",
        "plt.title('HTM per Hour for Round 2 Subsets Subsets & Full Test Dataset')\n",
        "plt.xlabel('Time for Each Subset')\n",
        "plt.ylabel('HTM per Hour');\n",
        "\n"
      ]
    },
    {
      "cell_type": "markdown",
      "metadata": {
        "id": "z2qUSRD-29qY"
      },
      "source": [
        "Pt 3: The Best & Worse Subset"
      ]
    },
    {
      "cell_type": "code",
      "execution_count": 48,
      "metadata": {
        "id": "B05b1S6NO_Rb"
      },
      "outputs": [],
      "source": [
        "#these are the times available that you can select\n",
        "metric_options = [\"mean\", \"median\", \"95%\"]\n",
        "\n",
        "def best_subset(priority_metric, percent_choice, all_subsets):\n",
        "  ##gold standard standard deviation, variance, mean and median\n",
        "\n",
        "  gold_sd = np.std(df_full_test.groupby([\"hh\", \"vo.num\"])[[ \"htm/hr\"]].max()[\"htm/hr\"])\n",
        "  gold_var = np.var(df_full_test.groupby([\"hh\", \"vo.num\"])[[ \"htm/hr\"]].max().reset_index()[\"htm/hr\"])\n",
        "\n",
        "  gold_mean = np.mean(df_full_test.groupby([\"hh\", \"vo.num\"])[[ \"htm/hr\"]].max()[\"htm/hr\"]) + gold_sd\n",
        "  gold_median = np.median(df_full_test.groupby([\"hh\", \"vo.num\"])[[ \"htm/hr\"]].max()[\"htm/hr\"]) + gold_sd \n",
        "\n",
        "  if priority_metric == \"mean\":\n",
        "\n",
        "    #starting place to define our best subset\n",
        "    best_sub = 0\n",
        "\n",
        "    #storage for averages and the subsets\n",
        "    avg_dict = {}\n",
        "\n",
        "    #go through all of our possible subsets from previous function and take the avg of freq column\n",
        "    for item in all_subsets.values():\n",
        "      ave = np.mean(item.groupby([\"hh\", \"vo.num\",\"htm/hr\", \"times\"])[[\"htm_cumul\", \"recorded_time\"]].max().reset_index()[\"htm/hr\"]) + np.std(item.groupby([\"hh\", \"vo.num\",\"htm/hr\", \"times\"])[[\"htm_cumul\", \"recorded_time\"]].max().reset_index()[\"htm/hr\"].unique())\n",
        "\n",
        "      #ignore the nan dataframes\n",
        "      if math.isnan(ave) == True:\n",
        "        continue\n",
        "\n",
        "      #store the dataframe as item, the average is the key in the avg_dict dictionary  \n",
        "      avg_dict[ave] = item\n",
        "      \n",
        "    \n",
        "    #take the difference between the actual average of the training set and each individual subset average\n",
        "    #whichever has the min absolute value difference is the one we want\n",
        "    best_avg, best_subset_mean = min(avg_dict.items(), key=lambda x: abs(gold_mean - x[0]))\n",
        "    \n",
        "    new_mean = (best_subset_mean.groupby([\"hh\", \"vo.num\",\"htm/hr\", \"times\"])[[\"htm_cumul\", \"recorded_time\"]].max().reset_index()[\"htm/hr\"].unique())\n",
        "\n",
        "    print(\"If you choose to code\", percent_choice, \"% of each hour of data and prioritize mean of exposure frequency\", best_subset_mean[\"times\"].unique(), \"\\n\", \"will provide the mean most similar to the full dataset\",\n",
        "          \"\\n\", \"it will capture\", (np.var(new_mean)/gold_var)*100, \"% of the full dataset variance\")\n",
        "    return best_subset_mean\n",
        "\n",
        "\n",
        "  elif priority_metric == \"median\": \n",
        "     #overall median we want to be closest to\n",
        "\n",
        "    #starting place to define our best subset\n",
        "    best_sub = 0\n",
        "\n",
        "    #storage for medians and the subsets\n",
        "    median_dict = {}\n",
        "\n",
        "    #go through all of our possible subsets from previous function and take the avg of freq column\n",
        "    for item in all_subsets.values():\n",
        "      med = np.median(item.groupby([\"hh\", \"vo.num\",\"htm/hr\", \"times\"])[[\"htm_cumul\", \"recorded_time\"]].max().reset_index()[\"htm/hr\"].unique()) + np.std(item.groupby([\"hh\", \"vo.num\",\"htm/hr\", \"times\"])[[\"htm_cumul\", \"recorded_time\"]].max().reset_index()[\"htm/hr\"].unique())\n",
        "\n",
        "      #ignore nan dataframes\n",
        "      if math.isnan(med) == True:\n",
        "        continue\n",
        "      \n",
        "\n",
        "      #store the dataframe as item, the median is the key in the med_dict dictionary \n",
        "      median_dict[med] = item\n",
        "    \n",
        "    #take the difference between the actual median of the training set and each individual subset median\n",
        "    #whichever has the min absolute value difference is the one we want\n",
        "    best_med, best_subset_med = min(median_dict.items(), key=lambda x: abs(gold_median - x[0]))\n",
        "    \n",
        "    new_med = np.median(best_subset_med.groupby([\"hh\", \"vo.num\",\"htm/hr\", \"times\"])[[\"htm_cumul\", \"recorded_time\"]].max().reset_index()[\"htm/hr\"].unique())\n",
        "    print(\"If you choose to code\", percent_choice, \"% of each hour of data and prioritize the median of exposure frequency\", best_subset_med[\"times\"].unique(), \"\\n\", \"will provide the median most similar to the full dataset\",\n",
        "          \"\\n\", \"it will capture\", (np.var(best_subset_med.groupby([\"hh\", \"vo.num\",\"htm/hr\", \"times\"])[[\"htm_cumul\", \"recorded_time\"]].max().reset_index()[\"htm/hr\"].unique())/gold_var)*100, \"% of the full dataset variance\")\n",
        "    return best_subset_med\n",
        "\n",
        "  elif priority_metric == \"95%\": \n",
        "     #overall median we want to be closest to\n",
        "\n",
        "    #starting place to define our best subset\n",
        "    best_sub = 0\n",
        "\n",
        "    #storage for medians and the subsets\n",
        "    perc_dict = {}\n",
        "\n",
        "    #go through all of our possible subsets from previous function and take the avg of freq column\n",
        "    for item in all_subsets.values():\n",
        "      perc_95 = np.quantile(item.groupby([\"hh\", \"vo.num\",\"htm/hr\", \"times\"])[[\"htm_cumul\", \"recorded_time\"]].max().reset_index()[\"htm/hr\"].unique(), .95)\n",
        "\n",
        "      #ignore nan dataframes\n",
        "      if math.isnan(perc_95) == True:\n",
        "        continue\n",
        "\n",
        "\n",
        "      #store the dataframe as item, the median is the key in the med_dict dictionary  \n",
        "      # item[\"quality\"] = \"worst\"\n",
        "      perc_dict[perc_95] = item\n",
        "    \n",
        "    #take the difference between the actual median of the training set and each individual subset median\n",
        "    #whichever has the min absolute value difference is the one we want\n",
        "    best_perc, best_subset_perc = min(perc_dict.items(), key=lambda x: abs(np.quantile(df_full_test.groupby([\"hh\", \"vo.num\",\"htm/hr\"])[[\"htm_cumul\", \"recorded_time\"]].max().reset_index()[\"htm/hr\"].unique(), .95) - x[0]))\n",
        "    new_med = np.quantile(best_subset_perc.groupby([\"hh\", \"vo.num\",\"htm/hr\", \"times\"])[[\"htm_cumul\", \"recorded_time\"]].max().reset_index()[\"htm/hr\"].unique(), .95)\n",
        "    print(\"If you choose to code\", percent_choice, \"% of each hour of data and prioritize mean of exposure frequency\", best_subset_perc[\"times\"].unique(), \"\\n\", \"will provide the mean most similar to the full dataset\",\n",
        "          \"\\n\", \"it will capture\", (np.var(best_subset_perc.groupby([\"hh\", \"vo.num\",\"htm/hr\", \"times\"])[[\"htm_cumul\", \"recorded_time\"]].max().reset_index()[\"htm/hr\"].unique())/gold_var)*100, \"% of the full dataset variance\")\n",
        "    return best_subset_perc\n",
        "\n"
      ]
    },
    {
      "cell_type": "code",
      "execution_count": 74,
      "metadata": {
        "id": "RZislUpNS0FD"
      },
      "outputs": [],
      "source": [
        "#these are the times available that you can select\n",
        "metric_options = [\"mean\", \"median\", \"95%\"]\n",
        "\n",
        "def worst_subset(priority_metric, percent_choice, all_subsets):\n",
        "  gold_sd = np.std(df_full_test.groupby([\"hh\", \"vo.num\"])[[ \"htm/hr\"]].max()[\"htm/hr\"])\n",
        "  gold_var = np.var(df_full_test.groupby([\"hh\", \"vo.num\"])[[ \"htm/hr\"]].max().reset_index()[\"htm/hr\"])\n",
        "\n",
        "  gold_mean = np.mean(df_full_test.groupby([\"hh\", \"vo.num\"])[[ \"htm/hr\"]].max()[\"htm/hr\"]) + gold_sd\n",
        "  gold_median = np.median(df_full_test.groupby([\"hh\", \"vo.num\"])[[ \"htm/hr\"]].max()[\"htm/hr\"]) + gold_sd \n",
        "\n",
        "  if priority_metric == \"mean\":\n",
        "\n",
        "    #starting place to define our best subset\n",
        "    best_sub = 0\n",
        "\n",
        "    #storage for averages and the subsets\n",
        "    avg_dict = {}\n",
        "\n",
        "    #go through all of our possible subsets from previous function and take the avg of freq column\n",
        "    for item in all_subsets.values():\n",
        "      ave = np.mean(item.groupby([\"hh\", \"vo.num\",\"htm/hr\", \"times\"])[[\"htm_cumul\", \"recorded_time\"]].max().reset_index()[\"htm/hr\"]) + np.std(item.groupby([\"hh\", \"vo.num\",\"htm/hr\", \"times\"])[[\"htm_cumul\", \"recorded_time\"]].max().reset_index()[\"htm/hr\"].unique())\n",
        "\n",
        "      #ignore the nan dataframes\n",
        "      if math.isnan(ave) == True:\n",
        "        continue\n",
        "\n",
        "      #store the dataframe as item, the average is the key in the avg_dict dictionary  \n",
        "      # item[\"quality\"] = \"worst\"\n",
        "      avg_dict[ave] = item\n",
        "    \n",
        "    #take the difference between the actual average of the training set and each individual subset average\n",
        "    #whichever has the min absolute value difference is the one we want\n",
        "    worst_mean, worst_subset_mean = max(avg_dict.items(), key=lambda x: abs(gold_mean - x[0]))\n",
        "    print(\"If you choose to code\", percent_choice, \"% of each hour of data and prioritize mean of exposure frequency\", worst_subset_mean[\"times\"].unique(), \"\\n\", \"will provide the mean most similar to the full dataset\",\n",
        "          \"\\n\", \"it will capture\", (np.var((worst_subset_mean.groupby([\"hh\", \"vo.num\",\"htm/hr\", \"times\"])[[\"htm_cumul\", \"recorded_time\"]].max().reset_index()[\"htm/hr\"].unique()))/gold_var)*100, \"% of the full dataset variance\")\n",
        "    return worst_subset_mean\n",
        "\n",
        "\n",
        "  elif priority_metric == \"median\": \n",
        "     #overall median we want to be closest to\n",
        "\n",
        "    #starting place to define our best subset\n",
        "    best_sub = 0\n",
        "\n",
        "    #storage for medians and the subsets\n",
        "    median_dict = {}\n",
        "\n",
        "    #go through all of our possible subsets from previous function and take the avg of freq column\n",
        "    for item in all_subsets.values():\n",
        "      med = np.median(item.groupby([\"hh\", \"vo.num\",\"htm/hr\", \"times\"])[[\"htm_cumul\", \"recorded_time\"]].max().reset_index()[\"htm/hr\"].unique()) + np.std(item.groupby([\"hh\", \"vo.num\",\"htm/hr\", \"times\"])[[\"htm_cumul\", \"recorded_time\"]].max().reset_index()[\"htm/hr\"].unique())\n",
        "\n",
        "      #ignore nan dataframes\n",
        "      if math.isnan(med) == True:\n",
        "        continue\n",
        "\n",
        "      #store the dataframe as item, the median is the key in the med_dict dictionary  \n",
        "      # item[\"quality\"] = \"worst\"\n",
        "      median_dict[med] = item\n",
        "    \n",
        "    #take the difference between the actual median of the training set and each individual subset median\n",
        "    #whichever has the min absolute value difference is the one we want\n",
        "    worst_mean, worst_subset_med = max(median_dict.items(), key=lambda x: abs(gold_median - x[0]))\n",
        "    print(\"If you choose to code\", percent_choice, \"% of each hour of data and prioritize the median of exposure frequency\", worst_subset_med[\"times\"].unique(), \"\\n\", \"will provide the median most similar to the full dataset\",\n",
        "          \"\\n\", \"it will capture\", (np.var(worst_subset_med.groupby([\"hh\", \"vo.num\",\"htm/hr\", \"times\"])[[\"htm_cumul\", \"recorded_time\"]].max().reset_index()[\"htm/hr\"].unique())/gold_var)*100, \"% of the full dataset variance\")\n",
        "    return worst_subset_med\n",
        "\n",
        "  elif priority_metric == \"95%\": \n",
        "     #overall median we want to be closest to\n",
        "\n",
        "    #starting place to define our best subset\n",
        "    best_sub = 0\n",
        "\n",
        "    #storage for medians and the subsets\n",
        "    perc_dict = {}\n",
        "\n",
        "    #go through all of our possible subsets from previous function and take the avg of freq column\n",
        "    for item in all_subsets.values():\n",
        "      perc_95 = np.quantile(item.groupby([\"hh\", \"vo.num\",\"htm/hr\", \"times\"])[[\"htm_cumul\", \"recorded_time\"]].max().reset_index()[\"htm/hr\"].unique(), .95)\n",
        "\n",
        "      #ignore nan dataframes\n",
        "      if math.isnan(perc_95) == True:\n",
        "        continue\n",
        "\n",
        "      #store the dataframe as item, the median is the key in the med_dict dictionary  \n",
        "      # item[\"quality\"] = \"worst\"\n",
        "      perc_dict[perc_95] = item\n",
        "    \n",
        "    #take the difference between the actual median of the training set and each individual subset median\n",
        "    #whichever has the min absolute value difference is the one we want\n",
        "    worst_perc, worst_subset_perc = max(perc_dict.items(), key=lambda x: abs(np.quantile(df_full_test.groupby([\"hh\", \"vo.num\",\"htm/hr\"])[[\"htm_cumul\", \"recorded_time\"]].max().reset_index()[\"htm/hr\"].unique(), .95) - x[0]))\n",
        "    new_perc = np.quantile(worst_subset_perc[\"htm/hr\"].unique(),.95 )\n",
        "    print(\"If you choose to code\", percent_choice, \"% of each hour of data and prioritize mean of exposure frequency\", worst_subset_perc[\"times\"].unique(), \"\\n\", \"will provide the mean most similar to the full dataset\",\n",
        "          \"\\n\", \"it will capture\", (np.var(worst_subset_perc.groupby([\"hh\", \"vo.num\",\"htm/hr\", \"times\"])[[\"htm_cumul\", \"recorded_time\"]].max().reset_index()[\"htm/hr\"].unique())/gold_var)*100, \"% of the full dataset variance\")\n",
        "    return worst_subset_perc\n",
        "\n"
      ]
    },
    {
      "cell_type": "code",
      "execution_count": 16,
      "metadata": {
        "id": "WgVKGF28tHdW"
      },
      "outputs": [],
      "source": [
        "best_dict = {}"
      ]
    },
    {
      "cell_type": "code",
      "source": [
        "best_dict = {}\n",
        "best_dict[\"best_median_2\"] = best_subset(\"median\", 50, conf_dict[1])"
      ],
      "metadata": {
        "id": "FjwrpyP6yFf3"
      },
      "execution_count": null,
      "outputs": []
    },
    {
      "cell_type": "code",
      "source": [
        "worst_dict = {}\n",
        "worst_dict[\"worst_median_2\"] = worst_subset(\"median\", 50, conf_dict[1])"
      ],
      "metadata": {
        "colab": {
          "base_uri": "https://localhost:8080/"
        },
        "id": "kssScDqhee4H",
        "outputId": "e3e97e83-bf56-4ceb-d1d3-68b57c3e3dbc"
      },
      "execution_count": 136,
      "outputs": [
        {
          "output_type": "stream",
          "name": "stdout",
          "text": [
            "1\n",
            "If you choose to code 50 % of each hour of data and prioritize mean of exposure frequency ['[[12, 57.0]]'] \n",
            " will provide the mean most similar to the full dataset \n",
            " it will capture 107.55632498801289 % of the full dataset variance\n",
            "2\n",
            "If you choose to code 50 % of each hour of data and prioritize mean of exposure frequency ['[[0, 45.0]]'] \n",
            " will provide the mean most similar to the full dataset \n",
            " it will capture 37.33969346794309 % of the full dataset variance\n",
            "3\n",
            "If you choose to code 50 % of each hour of data and prioritize mean of exposure frequency ['[[11, 56.0]]'] \n",
            " will provide the mean most similar to the full dataset \n",
            " it will capture 125.76771245795113 % of the full dataset variance\n"
          ]
        }
      ]
    },
    {
      "cell_type": "code",
      "source": [
        "\n",
        "\n",
        "w_m = worst_dict[\"worst_median_2\"].groupby([\"hh\", \"vo.num\",\"htm/hr\", \"times\"])[[\"htm_cumul\", \"recorded_time\"]].max().reset_index()[\"htm/hr\"]\n",
        "true = df_full[df_full[\"vo.num\"]==\"vo2\"].groupby([\"hh\", \"vo.num\",\"htm/hr\"])[[\"htm_cumul\", \"recorded_time\"]].max().reset_index()[\"htm/hr\"]\n",
        "\n",
        "pyplot.hist(true,alpha = .7, label='Test')\n",
        "pyplot.hist(w_m, alpha = .7, label='Training Worst Subset: Mean')\n",
        "\n",
        "\n",
        "pyplot.legend(loc='upper right')\n",
        "pyplot.xlabel(\"htm/hr\")\n",
        "pyplot.ylabel(\"Count\")\n",
        "pyplot.title(\"Coding 75%: Histogram of Round 2 Test and Training\")\n",
        "pyplot.show()\n"
      ],
      "metadata": {
        "colab": {
          "base_uri": "https://localhost:8080/",
          "height": 295
        },
        "id": "bSKCMYlxROnP",
        "outputId": "f3263ca9-a57d-4514-ea74-526fa73d9e3d"
      },
      "execution_count": 82,
      "outputs": [
        {
          "output_type": "display_data",
          "data": {
            "text/plain": [
              "<Figure size 432x288 with 1 Axes>"
            ],
            "image/png": "[encoded data removed]"
          },
          "metadata": {
            "needs_background": "light"
          }
        }
      ]
    },
    {
      "cell_type": "code",
      "source": [
        "b_m = best_dict[\"best_median_2\"].groupby([\"hh\", \"vo.num\",\"htm/hr\", \"times\"])[[\"htm_cumul\", \"recorded_time\"]].max().reset_index()[\"htm/hr\"]\n",
        "true = df_full[df_full[\"vo.num\"]==\"vo2\"].groupby([\"hh\", \"vo.num\",\"htm/hr\"])[[\"htm_cumul\", \"recorded_time\"]].max().reset_index()[\"htm/hr\"]\n",
        "\n",
        "\n",
        "pyplot.hist(true,alpha = .7, label='Test')\n",
        "pyplot.hist(b_m, alpha = .4, label='Training Best Subset: Median', color = 'Red')\n",
        "\n",
        "pyplot.legend(loc='upper right')\n",
        "pyplot.xlabel(\"htm/hr\")\n",
        "pyplot.ylabel(\"Count\")\n",
        "pyplot.title(\"Coding 75%: Histogram of Round 2 Test and Training\")\n",
        "pyplot.show()"
      ],
      "metadata": {
        "colab": {
          "base_uri": "https://localhost:8080/",
          "height": 295
        },
        "id": "FvJeN0FFWtRH",
        "outputId": "c79f277f-b8b4-485f-c664-2fa400649944"
      },
      "execution_count": 83,
      "outputs": [
        {
          "output_type": "display_data",
          "data": {
            "text/plain": [
              "<Figure size 432x288 with 1 Axes>"
            ],
            "image/png": "[encoded data removed]"
          },
          "metadata": {
            "needs_background": "light"
          }
        }
      ]
    },
    {
      "cell_type": "code",
      "execution_count": null,
      "metadata": {
        "id": "9fu_8M4KsxPb"
      },
      "outputs": [],
      "source": [
        "# Cosine Similarity\n",
        "\n",
        "\n",
        "# def cosine():\n",
        "#   a = np.array(df_full.groupby([\"hh\", \"vo.num\"])[\"exp/hr\"].max().reset_index()[\"exp/hr\"])\n",
        "#   a = [a]\n",
        "#   cos_dict = {}\n",
        "#   count = 0\n",
        "#   for item in all_subsets.values():\n",
        "#     max_cos = 0\n",
        "#     best_sub = 0\n",
        "#     b = np.array(item.groupby([\"hh\", \"vo.num\"])[\"exp/hr\"].max().reset_index()[\"exp/hr\"])\n",
        "#     b = [b]\n",
        "#     cos = cosine_similarity(a, b)\n",
        "#     cos_dict[cos[0][0]] = item\n",
        "#     count+=1\n",
        "#     if cos > max_cos:\n",
        "#       max_cos = cos\n",
        "#       best_sub = item.groupby([\"hh\", \"vo.num\"])[\"exp/hr\"].max().reset_index()[\"exp/hr\"]\n",
        "#   print(max_cos, best_sub)\n",
        "#   return cos_dict\n",
        "\n",
        "\n",
        "# cos_dict = cosine()"
      ]
    },
    {
      "cell_type": "code",
      "source": [
        "subset_dict[\"best_median\"][\"quality\"] = \"best\"\n",
        "subset_dict[\"best_median\"][\"metric\"] = \"median\"\n",
        "\n",
        "subset_dict[\"worst_median\"][\"quality\"] = \"worst\"\n",
        "subset_dict[\"worst_median\"][\"metric\"] = \"median\"\n",
        "\n",
        "\n",
        "\n",
        "df_full[\"quality\"] = \"True Values\"\n",
        "df_full[\"metric\"] = \"NA\"\n",
        "\n",
        "\n",
        "subset_dict[\"worst_median\"] = subset_dict[\"worst_median\"].groupby([\"hh\", \"vo.num\",\"exp/hr\", \"times\", \"quality\"])[[\"recorded_time\"]].max().reset_index()\n",
        "subset_dict[\"best_median\"] = subset_dict[\"best_median\"].groupby([\"hh\", \"vo.num\",\"exp/hr\", \"times\", \"quality\"])[[\"recorded_time\"]].max().reset_index()\n",
        "\n",
        "subsets = pd.concat(subset_dict.values(), ignore_index=True)\n",
        "\n",
        "df_full = df_full.groupby([\"hh\", \"vo.num\",\"exp/hr\", \"quality\"])[[\"recorded_time\"]].max().reset_index()\n",
        "\n",
        "full_plotting = pd.concat([subsets, df_full], ignore_index=True)\n",
        "full_plotting[\"times\"].fillna(\"Full Hour\", inplace=True) \n",
        "\n",
        "#concatenate them all together (with the full dataset)\n",
        "\n",
        "plt.figure(figsize=(10, 10))\n",
        "ax = sns.swarmplot(x=\"times\", y = \"exp/hr\", hue = \"quality\",\n",
        "                 data=full_plotting, palette=\"Set1\")\n",
        "ax.set_xticklabels(ax.get_xticklabels(),rotation = 30)\n",
        "\n",
        "plt.title('Median: Best and Worst & Full Dataset')\n",
        "plt.xlabel('Quality of Each Subset')\n",
        "plt.ylabel('Exposures per Hour');"
      ],
      "metadata": {
        "colab": {
          "base_uri": "https://localhost:8080/",
          "height": 649
        },
        "id": "Rgs1EpdsG6Eo",
        "outputId": "3b186bbe-3cba-4c71-cca1-1feaf6cd5a90"
      },
      "execution_count": null,
      "outputs": [
        {
          "output_type": "display_data",
          "data": {
            "text/plain": [
              "<Figure size 720x720 with 1 Axes>"
            ],
            "image/png": "[encoded data removed]"
          },
          "metadata": {
            "needs_background": "light"
          }
        }
      ]
    },
    {
      "cell_type": "code",
      "source": [
        "# #Each df is build from separating by vo num and timestamp, and then concatenated together\n",
        "\n",
        "# def dict_subset_builder(percent_choice, df):\n",
        "#   per_child = {}\n",
        "\n",
        "#   hh_list = df[\"hh\"].unique()\n",
        "#   rounds = df[\"vo.num\"].unique()\n",
        "\n",
        "#   count = 0\n",
        "\n",
        "#   df[\"htm_cumul\"] = 0\n",
        "#   df[\"htm/hr\"] = 0\n",
        "\n",
        "#   #go through all the children in hh_list\n",
        "#   for child in hh_list:\n",
        "\n",
        "\n",
        "#     #create sub dictionary\n",
        "#     vo_dict = {}\n",
        "\n",
        "\n",
        "#     count2 = 0\n",
        "\n",
        "#     for round in rounds:\n",
        "\n",
        "#       #specify the vo round and child\n",
        "#       df_vo = df[(df[\"vo.num\"]== str(round)) & (df[\"hh\"]== child)]\n",
        "\n",
        "#       #get the cumulative sum of recorded time\n",
        "#       df_vo[\"record.cumulative\"] = df_vo[\"dur\"].shift(1).cumsum().fillna(0)\n",
        "\n",
        "\n",
        "#       #creating hour running time variable\n",
        "#       df_vo[\"recorded_time\"] = (pd.to_datetime(df_vo[\"record.cumulative\"], unit=\"s\"))\n",
        "\n",
        "#       # extracting seconds from time stamp\n",
        "#       df_vo['recorded_seconds'] = df_vo['recorded_time'].dt.second\n",
        "#       df_vo['recorded_minutes'] =df_vo['recorded_time'].dt.minute\n",
        "#       df_vo['recorded_hours'] = df_vo['recorded_time'].dt.hour\n",
        "#       df_vo[\"recorded_time\"] = df_vo['recorded_time'].dt.time\n",
        "#       # hour_dict = {}\n",
        "#       # for value in df_vo[\"recorded_hours\"].unique():  & (df_vo[\"recorded_hours\"] == value)\n",
        "#       frac = 60*(percent_choice/100)\n",
        "#       tuple_list = []\n",
        "\n",
        "#       for i in range(0, 60-int(frac)+1):\n",
        "#         time_pairs = (i,i + frac)\n",
        "#         tuple_list.append(time_pairs)\n",
        "\n",
        "#       #store all possible subsets in a single dictionary\n",
        "#       time_diction = {}    \n",
        "#       for i in range(0, len(tuple_list)):\n",
        "#         time_list = []\n",
        "#         new_subset = df_vo[(df_vo[\"recorded_minutes\"] >= tuple_list[i][0]) & (df_vo[\"recorded_minutes\"] <= tuple_list[i][1])]\n",
        "\n",
        "#         #add column for time\n",
        "#         time_list.append([tuple_list[i][0], tuple_list[i][1]])\n",
        "#         new_subset[\"times\"] = str(time_list)\n",
        "        \n",
        "\n",
        "#         #get cumulative sum of exposures\n",
        "#         new_subset[\"htm_cumul\"] = new_subset[\"htm\"].cumsum()\n",
        "\n",
        "#         #Frequency per hour = cumulative number of exposures/total amount of seconds -> converted to hours\n",
        "#         # new_subset[\"exp/hr\"] = (new_subset[\"exp_cumul\"].max()/(new_subset.tail(1)[\"recorded_hours\"] + new_subset.tail(1)[\"recorded_minutes\"]/60 + new_subset.tail(1)[\"recorded_seconds\"]/(60*60)))\n",
        "#         new_subset[\"htm/hr\"] = (new_subset[\"htm_cumul\"].max()/new_subset[\"record.cumulative\"].max())*60*60\n",
        "#         time_diction[i] = new_subset\n",
        "        \n",
        "        \n",
        "      \n",
        "#       full_time = pd.concat(time_diction.values(), ignore_index=True)\n",
        "\n",
        "      \n",
        "\n",
        "#       #add each of our vo dataframes for each child to this sub dictionary\n",
        "#       vo_dict[count2] = full_time\n",
        "#       count2 += 1\n",
        "\n",
        "#     #concatenate the dictionary we just created  \n",
        "#     vo_full = pd.concat(vo_dict.values(), ignore_index=True)\n",
        "\n",
        "#     #add it to the larger dictionary\n",
        "#     per_child[count] = vo_full\n",
        "#     count += 1\n",
        "\n",
        "\n",
        "#   #Group dictionary by time rather than child\n",
        "#   overall = {f'{i}': df for i, (_, df) in \n",
        "#        enumerate((pd.concat(per_child.values())).groupby('times'), 1)}\n",
        "\n",
        "\n",
        "  \n",
        "#   return overall\n",
        "\n"
      ],
      "metadata": {
        "id": "I3uATBPnIqmn"
      },
      "execution_count": 4,
      "outputs": []
    },
    {
      "cell_type": "code",
      "execution_count": null,
      "metadata": {
        "colab": {
          "base_uri": "https://localhost:8080/",
          "height": 757
        },
        "id": "PqW832Q6tNtW",
        "outputId": "63b7ea8a-e1ad-4283-c762-3b48aca00133"
      },
      "outputs": [
        {
          "output_type": "display_data",
          "data": {
            "text/plain": [
              "<Figure size 864x864 with 1 Axes>"
            ],
            "image/png": "[encoded data removed]"
          },
          "metadata": {
            "needs_background": "light"
          }
        }
      ],
      "source": [
        "\n",
        "subset_dict[\"best_mean\"][\"quality\"] = \"best\"\n",
        "subset_dict[\"best_mean\"][\"metric\"] = \"mean\"\n",
        "\n",
        "subset_dict[\"worst_mean\"][\"quality\"] = \"worst\"\n",
        "subset_dict[\"worst_mean\"][\"metric\"] = \"mean\"\n",
        "\n",
        "\n",
        "\n",
        "\n",
        "df_full[\"quality\"] = \"True Values\"\n",
        "df_full[\"metric\"] = \"NA\"\n",
        "\n",
        "subset_dict[\"worst_mean\"] = subset_dict[\"worst_mean\"].groupby([\"hh\", \"vo.num\",\"htm/hr\", \"times\", \"quality\"])[[\"recorded_time\"]].max().reset_index()\n",
        "subset_dict[\"best_mean\"] = subset_dict[\"best_mean\"].groupby([\"hh\", \"vo.num\",\"htm/hr\", \"times\", \"quality\"])[[\"recorded_time\"]].max().reset_index()\n",
        "\n",
        "\n",
        "subsets = pd.concat(subset_dict.values(), ignore_index=True)\n",
        "\n",
        "df_full = df_full.groupby([\"hh\", \"vo.num\",\"htm/hr\", \"quality\"])[[\"recorded_time\"]].max().reset_index()\n",
        "\n",
        "full_plotting = pd.concat([subsets, df_full], ignore_index=True)\n",
        "full_plotting[\"times\"].fillna(\"Full Hour\", inplace=True) \n",
        "\n",
        "#concatenate them all together (with the full dataset)\n",
        "\n",
        "plt.figure(figsize=(12, 12))\n",
        "ax = sns.swarmplot(x=\"times\", y = \"htm/hr\", hue = \"quality\",\n",
        "                 data=full_plotting, palette=\"Set1\")\n",
        "ax.set_xticklabels(ax.get_xticklabels(),rotation = 30)\n",
        "\n",
        "plt.title('Mean: Best and Worst & Full Dataset')\n",
        "plt.xlabel('Quality of Each Subset')\n",
        "plt.ylabel('Exposures per Hour');\n"
      ]
    }
  ],
  "metadata": {
    "colab": {
      "collapsed_sections": [],
      "name": "Increasing Efficiency of Analyzing Dir Observations ",
      "provenance": []
    },
    "kernelspec": {
      "display_name": "Python 3",
      "name": "python3"
    },
    "language_info": {
      "name": "python"
    }
  },
  "nbformat": 4,
  "nbformat_minor": 0
}